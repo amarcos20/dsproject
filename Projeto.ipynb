{
 "cells": [
  {
   "cell_type": "markdown",
   "id": "a6b3f79f",
   "metadata": {},
   "source": [
    "Este documento corresponde ao Trabalho Prático para a unidade curricular Programação II no ano letivo 2024/2025\n",
    "\n",
    "### Estudante 1 ###\n",
    "Nome: Afonso Miguel Vieira Marcos\n",
    "Número Mecanográfico: 202404088\n"
   ]
  },
  {
   "cell_type": "code",
   "execution_count": null,
   "id": "43e65105",
   "metadata": {},
   "outputs": [],
   "source": [
    "import matplotlib.pyplot as plt\n",
    "import numpy as np \n",
    "import pandas as pd\n",
    "import seaborn as sns\n",
    "import sklearn as sk"
   ]
  }
 ],
 "metadata": {
  "language_info": {
   "name": "python"
  }
 },
 "nbformat": 4,
 "nbformat_minor": 5
}
