{
 "cells": [
  {
   "cell_type": "markdown",
   "id": "a6b3f79f",
   "metadata": {},
   "source": [
    "## Este documento corresponde ao Trabalho Prático para a unidade curricular Programação II no ano letivo 2024/2025 \n",
    "\n",
    "### Estudante 1 ###\n",
    "### Nome: Afonso Miguel Vieira Marcos\n",
    "### Número Mecanográfico: 202404088\n"
   ]
  },
  {
   "cell_type": "code",
   "execution_count": 1,
   "id": "43e65105",
   "metadata": {},
   "outputs": [],
   "source": [
    "import matplotlib.pyplot as plt\n",
    "import numpy as np \n",
    "import pandas as pd\n",
    "import seaborn as sns\n",
    "import sklearn as sk\n",
    "from sklearn.model_selection import train_test_split\n",
    "import os \n",
    "from sklearn.model_selection import train_test_split \n",
    "from sklearn.preprocessing import StandardScaler, MinMaxScaler \n",
    "from sklearn.preprocessing import OneHotEncoder, LabelEncoder  \n",
    "from sklearn.compose import ColumnTransformer \n",
    "from sklearn.impute import SimpleImputer \n",
    "# Modelos de Classificação para a terceira tarefa\n",
    "from sklearn.linear_model import LogisticRegression\n",
    "from sklearn.neighbors import KNeighborsClassifier\n",
    "from sklearn.svm import SVC\n",
    "from sklearn.tree import DecisionTreeClassifier\n",
    "from sklearn.ensemble import RandomForestClassifier, GradientBoostingClassifier, AdaBoostClassifier"
   ]
  },
  {
   "cell_type": "markdown",
   "id": "60ec26c3",
   "metadata": {},
   "source": [
    "<!-- IMPORTAR OS DADOS -->"
   ]
  },
  {
   "cell_type": "code",
   "execution_count": 2,
   "id": "4b1427ec",
   "metadata": {},
   "outputs": [],
   "source": [
    "data = pd.read_csv('student-data.csv')\n"
   ]
  },
  {
   "cell_type": "markdown",
   "id": "e812e48b",
   "metadata": {},
   "source": [
    " ### PRIMEIRA TAREFA : DATA EXPLORATION"
   ]
  },
  {
   "cell_type": "markdown",
   "id": "784443fb",
   "metadata": {},
   "source": [
    "0. Informação Geral e Tipos de Dados\n",
    "\n",
    "Ter o ficheiro csv dos dados no mesmo diretorio de modo a estes estarem acessiveis.\n",
    "Informações do dataset(atravez do comando data.info()): numero,nome e tipo(int,object,etc...) das features; dimensões e espaço usado do dataframe. "
   ]
  },
  {
   "cell_type": "code",
   "execution_count": 3,
   "id": "6234bfd1",
   "metadata": {},
   "outputs": [
    {
     "name": "stdout",
     "output_type": "stream",
     "text": [
      "<class 'pandas.core.frame.DataFrame'>\n",
      "RangeIndex: 395 entries, 0 to 394\n",
      "Data columns (total 31 columns):\n",
      " #   Column      Non-Null Count  Dtype \n",
      "---  ------      --------------  ----- \n",
      " 0   school      395 non-null    object\n",
      " 1   sex         395 non-null    object\n",
      " 2   age         395 non-null    int64 \n",
      " 3   address     395 non-null    object\n",
      " 4   famsize     395 non-null    object\n",
      " 5   Pstatus     395 non-null    object\n",
      " 6   Medu        395 non-null    int64 \n",
      " 7   Fedu        395 non-null    int64 \n",
      " 8   Mjob        395 non-null    object\n",
      " 9   Fjob        395 non-null    object\n",
      " 10  reason      395 non-null    object\n",
      " 11  guardian    395 non-null    object\n",
      " 12  traveltime  395 non-null    int64 \n",
      " 13  studytime   395 non-null    int64 \n",
      " 14  failures    395 non-null    int64 \n",
      " 15  schoolsup   395 non-null    object\n",
      " 16  famsup      395 non-null    object\n",
      " 17  paid        395 non-null    object\n",
      " 18  activities  395 non-null    object\n",
      " 19  nursery     395 non-null    object\n",
      " 20  higher      395 non-null    object\n",
      " 21  internet    395 non-null    object\n",
      " 22  romantic    395 non-null    object\n",
      " 23  famrel      395 non-null    int64 \n",
      " 24  freetime    395 non-null    int64 \n",
      " 25  goout       395 non-null    int64 \n",
      " 26  Dalc        395 non-null    int64 \n",
      " 27  Walc        395 non-null    int64 \n",
      " 28  health      395 non-null    int64 \n",
      " 29  absences    395 non-null    int64 \n",
      " 30  passed      395 non-null    object\n",
      "dtypes: int64(13), object(18)\n",
      "memory usage: 95.8+ KB\n"
     ]
    }
   ],
   "source": [
    "data.info()"
   ]
  },
  {
   "cell_type": "markdown",
   "id": "f1217e08",
   "metadata": {},
   "source": [
    "1. Valores que aparecem nas features \n",
    " Útil para perceber a cardinalidade  das features."
   ]
  },
  {
   "cell_type": "code",
   "execution_count": 4,
   "id": "5ecd056b",
   "metadata": {},
   "outputs": [
    {
     "name": "stdout",
     "output_type": "stream",
     "text": [
      "\n",
      "--- Número e tipos de Valores  por Coluna ---\n",
      "school: 2 (GP, MS)\n",
      "sex: 2 (F, M)\n",
      "age: 8 (15, 16, 17, 18, 19, 20, 21, 22)\n",
      "address: 2 (R, U)\n",
      "famsize: 2 (GT3, LE3)\n",
      "Pstatus: 2 (A, T)\n",
      "Medu: 5 (0, 1, 2, 3, 4)\n",
      "Fedu: 5 (0, 1, 2, 3, 4)\n",
      "Mjob: 5 (at_home, health, other, services, teacher)\n",
      "Fjob: 5 (at_home, health, other, services, teacher)\n",
      "reason: 4 (course, home, other, reputation)\n",
      "guardian: 3 (father, mother, other)\n",
      "traveltime: 4 (1, 2, 3, 4)\n",
      "studytime: 4 (1, 2, 3, 4)\n",
      "failures: 4 (0, 1, 2, 3)\n",
      "schoolsup: 2 (no, yes)\n",
      "famsup: 2 (no, yes)\n",
      "paid: 2 (no, yes)\n",
      "activities: 2 (no, yes)\n",
      "nursery: 2 (no, yes)\n",
      "higher: 2 (no, yes)\n",
      "internet: 2 (no, yes)\n",
      "romantic: 2 (no, yes)\n",
      "famrel: 5 (1, 2, 3, 4, 5)\n",
      "freetime: 5 (1, 2, 3, 4, 5)\n",
      "goout: 5 (1, 2, 3, 4, 5)\n",
      "Dalc: 5 (1, 2, 3, 4, 5)\n",
      "Walc: 5 (1, 2, 3, 4, 5)\n",
      "health: 5 (1, 2, 3, 4, 5)\n",
      "absences: 34 (0, 1, 2, 3, 4, 5, 6, 7, 8, 9, 10, 11, 12, 13, 14, 15, 16, 17, 18, 19, 20, 21, 22, 23, 24, 25, 26, 28, 30, 38, 40, 54, 56, 75)\n",
      "passed: 2 (no, yes)\n"
     ]
    }
   ],
   "source": [
    "print(\"\\n--- Número e tipos de Valores  por Coluna ---\")\n",
    "for col in data.columns:\n",
    "        num_unique = data[col].nunique()\n",
    "        unique_values = data[col].unique()\n",
    "        try:\n",
    "            # para melhor legibilidade\n",
    "            sorted_unique_values = np.sort(unique_values)\n",
    "            # Formata os valores como string separados por vírgula\n",
    "            values_str = ', '.join(map(str, sorted_unique_values))\n",
    "        except TypeError: # Se não der para ordenar (tipos mistos)\n",
    "            values_str = ', '.join(map(str, unique_values))\n",
    "        print(f\"{col}: {num_unique} ({values_str})\")"
   ]
  },
  {
   "cell_type": "markdown",
   "id": "b99964b5",
   "metadata": {},
   "source": [
    "2. Primeira visualização dos dados\n",
    "    Contacto com as dez primeiras e ultimas 5 linhas do dataframe com objetivo de perceber como os dados estão organizados e estruturados."
   ]
  },
  {
   "cell_type": "code",
   "execution_count": 5,
   "id": "500c801e",
   "metadata": {},
   "outputs": [
    {
     "name": "stdout",
     "output_type": "stream",
     "text": [
      "--- Primeiras 10 linhas dos dados ---\n",
      "  school sex  age address famsize Pstatus  Medu  Fedu      Mjob      Fjob  \\\n",
      "0     GP   F   18       U     GT3       A     4     4   at_home   teacher   \n",
      "1     GP   F   17       U     GT3       T     1     1   at_home     other   \n",
      "2     GP   F   15       U     LE3       T     1     1   at_home     other   \n",
      "3     GP   F   15       U     GT3       T     4     2    health  services   \n",
      "4     GP   F   16       U     GT3       T     3     3     other     other   \n",
      "5     GP   M   16       U     LE3       T     4     3  services     other   \n",
      "6     GP   M   16       U     LE3       T     2     2     other     other   \n",
      "7     GP   F   17       U     GT3       A     4     4     other   teacher   \n",
      "8     GP   M   15       U     LE3       A     3     2  services     other   \n",
      "9     GP   M   15       U     GT3       T     3     4     other     other   \n",
      "\n",
      "   ... internet romantic  famrel  freetime  goout Dalc Walc health absences  \\\n",
      "0  ...       no       no       4         3      4    1    1      3        6   \n",
      "1  ...      yes       no       5         3      3    1    1      3        4   \n",
      "2  ...      yes       no       4         3      2    2    3      3       10   \n",
      "3  ...      yes      yes       3         2      2    1    1      5        2   \n",
      "4  ...       no       no       4         3      2    1    2      5        4   \n",
      "5  ...      yes       no       5         4      2    1    2      5       10   \n",
      "6  ...      yes       no       4         4      4    1    1      3        0   \n",
      "7  ...       no       no       4         1      4    1    1      1        6   \n",
      "8  ...      yes       no       4         2      2    1    1      1        0   \n",
      "9  ...      yes       no       5         5      1    1    1      5        0   \n",
      "\n",
      "  passed  \n",
      "0     no  \n",
      "1     no  \n",
      "2    yes  \n",
      "3    yes  \n",
      "4    yes  \n",
      "5    yes  \n",
      "6    yes  \n",
      "7     no  \n",
      "8    yes  \n",
      "9    yes  \n",
      "\n",
      "[10 rows x 31 columns]\n",
      "\n",
      "--- Últimas 5 linhas dos dados ---\n",
      "    school sex  age address famsize Pstatus  Medu  Fedu      Mjob      Fjob  \\\n",
      "390     MS   M   20       U     LE3       A     2     2  services  services   \n",
      "391     MS   M   17       U     LE3       T     3     1  services  services   \n",
      "392     MS   M   21       R     GT3       T     1     1     other     other   \n",
      "393     MS   M   18       R     LE3       T     3     2  services     other   \n",
      "394     MS   M   19       U     LE3       T     1     1     other   at_home   \n",
      "\n",
      "     ... internet romantic  famrel  freetime  goout Dalc Walc health absences  \\\n",
      "390  ...       no       no       5         5      4    4    5      4       11   \n",
      "391  ...      yes       no       2         4      5    3    4      2        3   \n",
      "392  ...       no       no       5         5      3    3    3      3        3   \n",
      "393  ...      yes       no       4         4      1    3    4      5        0   \n",
      "394  ...      yes       no       3         2      3    3    3      5        5   \n",
      "\n",
      "    passed  \n",
      "390     no  \n",
      "391    yes  \n",
      "392     no  \n",
      "393    yes  \n",
      "394     no  \n",
      "\n",
      "[5 rows x 31 columns]\n"
     ]
    }
   ],
   "source": [
    "print(\"--- Primeiras 10 linhas dos dados ---\")\n",
    "print(data.head(10))\n",
    "print(\"\\n--- Últimas 5 linhas dos dados ---\")\n",
    "print(data.tail(5))"
   ]
  },
  {
   "cell_type": "markdown",
   "id": "cb482dc4",
   "metadata": {},
   "source": [
    "3. Contagem Explícita de Valores Ausentes\n",
    "Cálculo e exibição do número exato de valores ausentes (NaN/nulos) em cada coluna"
   ]
  },
  {
   "cell_type": "code",
   "execution_count": 6,
   "id": "1d3efb51",
   "metadata": {},
   "outputs": [
    {
     "name": "stdout",
     "output_type": "stream",
     "text": [
      "\n",
      "--- Contagem de Valores Ausentes por Coluna ---\n",
      "school        0\n",
      "sex           0\n",
      "age           0\n",
      "address       0\n",
      "famsize       0\n",
      "Pstatus       0\n",
      "Medu          0\n",
      "Fedu          0\n",
      "Mjob          0\n",
      "Fjob          0\n",
      "reason        0\n",
      "guardian      0\n",
      "traveltime    0\n",
      "studytime     0\n",
      "failures      0\n",
      "schoolsup     0\n",
      "famsup        0\n",
      "paid          0\n",
      "activities    0\n",
      "nursery       0\n",
      "higher        0\n",
      "internet      0\n",
      "romantic      0\n",
      "famrel        0\n",
      "freetime      0\n",
      "goout         0\n",
      "Dalc          0\n",
      "Walc          0\n",
      "health        0\n",
      "absences      0\n",
      "passed        0\n",
      "dtype: int64\n",
      "\n",
      "--- Total de Valores Ausentes no Dataset: 0 ---\n"
     ]
    }
   ],
   "source": [
    "print(\"\\n--- Contagem de Valores Ausentes por Coluna ---\")\n",
    "missing_values = data.isnull().sum()\n",
    "print(missing_values)\n",
    "print(f\"\\n--- Total de Valores Ausentes no Dataset: {missing_values.sum()} ---\")\n",
    "# Se houver muitos valores ausentes (>0), investigar mais a fundo depois."
   ]
  },
  {
   "cell_type": "markdown",
   "id": "85f4aea5",
   "metadata": {},
   "source": [
    "4. Estatísticas Descritivas (Variáveis Numéricas)\n",
    "eração de estatísticas descritivas (média, desvio padrão, mínimo, máximo, quartis) para todas as colunas numéricas (inteiros e floats) "
   ]
  },
  {
   "cell_type": "code",
   "execution_count": 7,
   "id": "2bb59d65",
   "metadata": {},
   "outputs": [
    {
     "name": "stdout",
     "output_type": "stream",
     "text": [
      "\n",
      "--- Estatísticas Descritivas (Colunas Numéricas)  ---\n",
      "              age        Medu        Fedu  traveltime   studytime    failures  \\\n",
      "count  395.000000  395.000000  395.000000  395.000000  395.000000  395.000000   \n",
      "mean    16.696203    2.749367    2.521519    1.448101    2.035443    0.334177   \n",
      "std      1.276043    1.094735    1.088201    0.697505    0.839240    0.743651   \n",
      "min     15.000000    0.000000    0.000000    1.000000    1.000000    0.000000   \n",
      "25%     16.000000    2.000000    2.000000    1.000000    1.000000    0.000000   \n",
      "50%     17.000000    3.000000    2.000000    1.000000    2.000000    0.000000   \n",
      "75%     18.000000    4.000000    3.000000    2.000000    2.000000    0.000000   \n",
      "max     22.000000    4.000000    4.000000    4.000000    4.000000    3.000000   \n",
      "\n",
      "           famrel    freetime       goout        Dalc        Walc      health  \\\n",
      "count  395.000000  395.000000  395.000000  395.000000  395.000000  395.000000   \n",
      "mean     3.944304    3.235443    3.108861    1.481013    2.291139    3.554430   \n",
      "std      0.896659    0.998862    1.113278    0.890741    1.287897    1.390303   \n",
      "min      1.000000    1.000000    1.000000    1.000000    1.000000    1.000000   \n",
      "25%      4.000000    3.000000    2.000000    1.000000    1.000000    3.000000   \n",
      "50%      4.000000    3.000000    3.000000    1.000000    2.000000    4.000000   \n",
      "75%      5.000000    4.000000    4.000000    2.000000    3.000000    5.000000   \n",
      "max      5.000000    5.000000    5.000000    5.000000    5.000000    5.000000   \n",
      "\n",
      "         absences  \n",
      "count  395.000000  \n",
      "mean     5.708861  \n",
      "std      8.003096  \n",
      "min      0.000000  \n",
      "25%      0.000000  \n",
      "50%      4.000000  \n",
      "75%      8.000000  \n",
      "max     75.000000  \n"
     ]
    }
   ],
   "source": [
    "\n",
    "# Para colunas numéricas (int, float)\n",
    "print(\"\\n--- Estatísticas Descritivas (Colunas Numéricas)  ---\")\n",
    "print(data.describe())"
   ]
  },
  {
   "cell_type": "markdown",
   "id": "22d5588e",
   "metadata": {},
   "source": [
    "5. Estatísticas Descritivas (Variáveis Categóricas)\n",
    "eração de estatísticas descritivas para colunas do tipo 'object' (geralmente strings/categóricas) usando `data.describe(include='object')"
   ]
  },
  {
   "cell_type": "code",
   "execution_count": 8,
   "id": "a5d22e73",
   "metadata": {},
   "outputs": [
    {
     "name": "stdout",
     "output_type": "stream",
     "text": [
      "\n",
      "--- Estatísticas Descritivas (Colunas Categóricas/Object) ---\n",
      "       school  sex address famsize Pstatus   Mjob   Fjob  reason guardian  \\\n",
      "count     395  395     395     395     395    395    395     395      395   \n",
      "unique      2    2       2       2       2      5      5       4        3   \n",
      "top        GP    F       U     GT3       T  other  other  course   mother   \n",
      "freq      349  208     307     281     354    141    217     145      273   \n",
      "\n",
      "       schoolsup famsup paid activities nursery higher internet romantic  \\\n",
      "count        395    395  395        395     395    395      395      395   \n",
      "unique         2      2    2          2       2      2        2        2   \n",
      "top           no    yes   no        yes     yes    yes      yes       no   \n",
      "freq         344    242  214        201     314    375      329      263   \n",
      "\n",
      "       passed  \n",
      "count     395  \n",
      "unique      2  \n",
      "top       yes  \n",
      "freq      265  \n"
     ]
    }
   ],
   "source": [
    "print(\"\\n--- Estatísticas Descritivas (Colunas Categóricas/Object) ---\")\n",
    "# O include='object' retorna strings. \n",
    "print(data.describe(include='object'))"
   ]
  },
  {
   "cell_type": "markdown",
   "id": "20e01f41",
   "metadata": {},
   "source": [
    " 7. Análise Inicial da Variável Alvo( 'passed' )"
   ]
  },
  {
   "cell_type": "code",
   "execution_count": 9,
   "id": "91335416",
   "metadata": {},
   "outputs": [
    {
     "name": "stdout",
     "output_type": "stream",
     "text": [
      "\n",
      "--- Distribuição da Variável Alvo ('passed') ---\n",
      "passed\n",
      "yes    265\n",
      "no     130\n",
      "Name: count, dtype: int64\n",
      "\n",
      "--- Distribuição Percentual da Variável Alvo ('passed') ---\n",
      "passed\n",
      "yes    67.088608\n",
      "no     32.911392\n",
      "Name: proportion, dtype: float64\n"
     ]
    }
   ],
   "source": [
    "\n",
    "print(\"\\n--- Distribuição da Variável Alvo ('passed') ---\")\n",
    "print(data['passed'].value_counts())\n",
    "print(\"\\n--- Distribuição Percentual da Variável Alvo ('passed') ---\")\n",
    "print(data['passed'].value_counts(normalize=True) * 100)"
   ]
  },
  {
   "cell_type": "markdown",
   "id": "53fcee4b",
   "metadata": {},
   "source": [
    "8. Box plot para as faltas 'absences'"
   ]
  },
  {
   "cell_type": "code",
   "execution_count": 10,
   "id": "0b9fc8b8",
   "metadata": {},
   "outputs": [
    {
     "name": "stderr",
     "output_type": "stream",
     "text": [
      "/tmp/ipykernel_129452/482835831.py:6: FutureWarning: \n",
      "\n",
      "Passing `palette` without assigning `hue` is deprecated and will be removed in v0.14.0. Assign the `y` variable to `hue` and set `legend=False` for the same effect.\n",
      "\n",
      "  sns.boxplot(x=data['absences'], palette='viridis')\n"
     ]
    },
    {
     "data": {
      "image/png": "[encoded data removed]",
      "text/plain": [
       "<Figure size 1000x400 with 1 Axes>"
      ]
     },
     "metadata": {},
     "output_type": "display_data"
    },
    {
     "name": "stdout",
     "output_type": "stream",
     "text": [
      "\n",
      "--- Potenciais Outliers Identificados (Total: 15) ---\n",
      "    school sex  age address famsize Pstatus  Medu  Fedu      Mjob      Fjob  \\\n",
      "276     GP   F   18       R     GT3       A     3     2     other  services   \n",
      "183     GP   F   17       U     LE3       T     3     3     other     other   \n",
      "74      GP   F   16       U     GT3       T     3     3     other  services   \n",
      "315     GP   F   19       R     GT3       T     2     3     other     other   \n",
      "307     GP   M   19       U     GT3       T     4     4   teacher  services   \n",
      "280     GP   M   17       U     LE3       A     4     1  services     other   \n",
      "205     GP   F   17       U     GT3       T     3     4   at_home  services   \n",
      "103     GP   F   15       U     GT3       T     3     2  services     other   \n",
      "40      GP   F   16       U     LE3       T     2     2     other     other   \n",
      "198     GP   F   17       U     GT3       T     4     4  services   teacher   \n",
      "320     GP   F   17       U     GT3       A     4     3  services  services   \n",
      "216     GP   F   17       U     GT3       T     4     3     other     other   \n",
      "277     GP   M   18       U     GT3       T     4     4   teacher  services   \n",
      "313     GP   F   19       U     LE3       T     3     2  services     other   \n",
      "260     GP   F   18       U     GT3       T     4     3  services     other   \n",
      "\n",
      "     ... internet romantic  famrel  freetime  goout Dalc Walc health absences  \\\n",
      "276  ...      yes      yes       4         1      1    1    1      5       75   \n",
      "183  ...      yes      yes       5         3      3    2    3      1       56   \n",
      "74   ...      yes       no       4         3      3    2    4      5       54   \n",
      "315  ...      yes      yes       4         1      2    1    1      3       40   \n",
      "307  ...      yes      yes       4         3      4    1    1      4       38   \n",
      "280  ...      yes      yes       4         5      4    2    4      5       30   \n",
      "205  ...      yes      yes       4         4      3    3    4      5       28   \n",
      "103  ...      yes       no       4         3      5    1    1      2       26   \n",
      "40   ...      yes      yes       3         3      3    1    2      3       25   \n",
      "198  ...      yes       no       4         2      4    2    3      2       24   \n",
      "320  ...      yes      yes       5         2      2    1    2      5       23   \n",
      "216  ...      yes      yes       3         4      5    2    4      1       22   \n",
      "277  ...      yes       no       3         2      4    1    4      3       22   \n",
      "313  ...      yes      yes       4         2      2    1    2      1       22   \n",
      "260  ...      yes      yes       3         1      2    1    3      2       21   \n",
      "\n",
      "    passed  \n",
      "276     no  \n",
      "183     no  \n",
      "74     yes  \n",
      "315    yes  \n",
      "307     no  \n",
      "280     no  \n",
      "205     no  \n",
      "103     no  \n",
      "40     yes  \n",
      "198    yes  \n",
      "320    yes  \n",
      "216     no  \n",
      "277     no  \n",
      "313    yes  \n",
      "260    yes  \n",
      "\n",
      "[15 rows x 31 columns]\n"
     ]
    }
   ],
   "source": [
    "plt.figure(figsize=(10, 4)) \n",
    "\n",
    "# Criar o Box Plot para 'absences'\n",
    "# Usar x= para um box plot horizontal, que pode ser melhor para visualizar\n",
    "# outliers numa escala ampla como a de faltas.\n",
    "sns.boxplot(x=data['absences'], palette='viridis')\n",
    "\n",
    "plt.title('Box Plot das Faltas (absences) - Mostrando Outliers')\n",
    "plt.xlabel('Número de Faltas')\n",
    "#plt.ylabel('') # Não necessário para boxplot horizontal de uma variável\n",
    "\n",
    "# Adicionar linhas de Média e Mediana para referência (opcional no boxplot)\n",
    "mean_absences = data['absences'].mean()\n",
    "median_absences = data['absences'].median()\n",
    "plt.axvline(mean_absences, color='dodgerblue', linestyle='--', label=f'Média ({mean_absences:.2f})')\n",
    "plt.axvline(median_absences, color='orange', linestyle=':', label=f'Mediana ({median_absences:.2f})')\n",
    "plt.legend()\n",
    "\n",
    "\n",
    "plt.show()\n",
    "\n",
    "# Opcional: Imprimir os valores considerados outliers pelo critério do boxplot (aproximado)\n",
    "q1 = data['absences'].quantile(0.25)\n",
    "q3 = data['absences'].quantile(0.75)\n",
    "iqr = q3 - q1\n",
    "lower_bound = q1 - 1.5 * iqr\n",
    "upper_bound = q3 + 1.5 * iqr\n",
    "\n",
    "\n",
    "\n",
    "outliers = data[(data['absences'] < lower_bound) | (data['absences'] > upper_bound)]\n",
    "print(f\"\\n--- Potenciais Outliers Identificados (Total: {len(outliers)}) ---\")\n",
    "# Mostrar alguns exemplos de outliers (ordenados)\n",
    "print(outliers.sort_values('absences', ascending=False).head(15)) # Mostra os 15 maiores"
   ]
  },
  {
   "cell_type": "markdown",
   "id": "96df5d23",
   "metadata": {},
   "source": [
    "9. Line plot para comparar faltas 'absences' e tempo livre 'freetime'. \n"
   ]
  },
  {
   "cell_type": "code",
   "execution_count": 11,
   "id": "872d3e5b",
   "metadata": {},
   "outputs": [
    {
     "name": "stdout",
     "output_type": "stream",
     "text": [
      "Com base no gráfico apresentado, é possível tirar duas conclusões iniciais sobre a relação entre o tempo livre dos alunos (freetime) e o número de faltas (absences):\n",
      "1ªconclusão:\n",
      "Menos tempo livre pode estar associado a mais faltas: Alunos com nível mais baixo de tempo livre (nível 1) apresentam, em média, um número significativamente maior de faltas do que os demais. Isso pode indicar que uma carga elevada de compromissos fora da escola (como trabalho ou responsabilidades familiares interfere na frequência escolar\n",
      "2ªconclusão:\n",
      "A relação não é linear e estabiliza com mais tempo livre: A partir do nível 3 de tempo livre, o número médio de faltas tende a se estabilizar, com uma leve elevação nos níveis 4 e 5. Isso pode sugerir que, embora mais tempo livre reduza inicialmente as faltas, um excesso também pode estar relacionado a menor comprometimento escolar em alguns casos.\n"
     ]
    },
    {
     "data": {
      "image/png": "[encoded data removed]",
      "text/plain": [
       "<Figure size 640x480 with 1 Axes>"
      ]
     },
     "metadata": {},
     "output_type": "display_data"
    }
   ],
   "source": [
    "sns.lineplot(x='freetime', y='absences', data=data, estimator=np.mean)\n",
    "print('Com base no gráfico apresentado, é possível tirar duas conclusões iniciais sobre a relação entre o tempo livre dos alunos (freetime) e o número de faltas (absences):')\n",
    "\n",
    "print(\"1ªconclusão:\\nMenos tempo livre pode estar associado a mais faltas: Alunos com nível mais baixo de tempo livre (nível 1) apresentam, em média, um número significativamente maior de faltas do que os demais. Isso pode indicar que uma carga elevada de compromissos fora da escola (como trabalho ou responsabilidades familiares interfere na frequência escolar\")\n",
    "      \n",
    "print('2ªconclusão:\\nA relação não é linear e estabiliza com mais tempo livre: A partir do nível 3 de tempo livre, o número médio de faltas tende a se estabilizar, com uma leve elevação nos níveis 4 e 5. Isso pode sugerir que, embora mais tempo livre reduza inicialmente as faltas, um excesso também pode estar relacionado a menor comprometimento escolar em alguns casos.')\n"
   ]
  },
  {
   "cell_type": "markdown",
   "id": "51d2fa83",
   "metadata": {},
   "source": [
    "10. Grafico de relação entre faltas e admissões"
   ]
  },
  {
   "cell_type": "code",
   "execution_count": 12,
   "id": "c8bb434d",
   "metadata": {},
   "outputs": [
    {
     "data": {
      "image/png": "[encoded data removed]",
      "text/plain": [
       "<Figure size 1400x700 with 1 Axes>"
      ]
     },
     "metadata": {},
     "output_type": "display_data"
    },
    {
     "name": "stdout",
     "output_type": "stream",
     "text": [
      "\n",
      "--- Média e Mediana de Faltas por Grupo ---\n",
      "            mean  median\n",
      "passed                  \n",
      "no      6.761538     4.0\n",
      "yes     5.192453     4.0\n",
      "\n",
      "Conclusão sobre a Relação entre Situação Final e Número de Faltas:\n",
      "\n",
      "    Observa-se uma correlação entre o número de faltas e a situação final do aluno.\n",
      "\n",
      "    1.  **Alunos Aprovados (Verde):** A grande maioria dos alunos que passaram (\"Passou\")\n",
      "        apresenta um número baixo de faltas, concentrando-se principalmente abaixo de 10-15 faltas.\n",
      "        Muitos estão abaixo da mediana geral de faltas (4.00) e da média geral (5.71).\n",
      "        Embora existam alguns casos de aprovação com um número maior de faltas (um perto de 30,\n",
      "        outro perto de 40 e um acima de 50), são exceções.\n",
      "\n",
      "    2.  **Alunos Reprovados (Vermelho):** Os alunos que não passaram (\"Não Passou\") exibem\n",
      "        uma maior dispersão no número de faltas. É importante notar que:\n",
      "        *   Alguns alunos reprovaram mesmo com poucas faltas (inclusive 0 faltas),\n",
      "            sugerindo que outros fatores (como desempenho em avaliações, não mostrados\n",
      "            neste gráfico) foram determinantes para a reprovação.\n",
      "        *   No entanto, há uma clara tendência de que um número elevado de faltas está\n",
      "            fortemente associado à reprovação. No gráfico, todos os alunos com mais de\n",
      "            aproximadamente 25-30 faltas não passaram. À medida que o número de faltas\n",
      "...\n",
      "        e a mediana (4.00) de faltas gerais servem como referências, mas a distinção entre\n",
      "        aprovados e reprovados se torna mais nítida à medida que o número de faltas aumenta\n",
      "        significativamente além desses valores\n",
      "\n",
      "    \n"
     ]
    }
   ],
   "source": [
    "\n",
    "\n",
    "\n",
    "# Define o mapeamento de cores\n",
    "color_map = {'yes': 'green', 'no': 'red'}\n",
    "\n",
    "plt.figure(figsize=(14, 7)) # Um pouco mais largo para espalhar os pontos\n",
    "\n",
    "# Usar stripplot para visualizar pontos individuais\n",
    "# Jitter=True adiciona uma pequena dispersão horizontal para evitar sobreposição perfeita\n",
    "sns.stripplot(\n",
    "    x='absences',\n",
    "    y='passed',        \n",
    "    data=data,\n",
    "    hue='passed',       #detalhes visuais para melhorar a visulaização\n",
    "    dodge=True,         \n",
    "    palette=color_map, \n",
    "    order=['yes', 'no'],\n",
    "    jitter=0.1,        \n",
    "    alpha=0.7,         \n",
    "    size=5             \n",
    ")\n",
    "\n",
    "# Adicionar linhas de Média e Mediana Geral de Faltas como referência\n",
    "mean_absences = data['absences'].mean()\n",
    "median_absences = data['absences'].median()\n",
    "plt.axvline(mean_absences, color='dodgerblue', linestyle='--', label=f'Média Geral Faltas ({mean_absences:.2f})')\n",
    "plt.axvline(median_absences, color='orange', linestyle=':', label=f'Mediana Geral Faltas ({median_absences:.2f})')\n",
    "\n",
    "# Ajustes do gráfico\n",
    "plt.title('Situação Final vs. Número de Faltas (Cada Ponto é um Aluno)')\n",
    "plt.xlabel('Número de Faltas (absences)')\n",
    "plt.ylabel('Situação Final')\n",
    "plt.yticks([0, 1], ['Passou (Verde)', 'Não Passou (Vermelho)']) # Melhora rótulos do eixo Y\n",
    "\n",
    "# Adicionar grid horizontal para separar melhor as categorias\n",
    "plt.grid(axis='y', linestyle='--', alpha=0.7)\n",
    "\n",
    "# Ajustar a legenda\n",
    "# O stripplot pode criar uma legenda por padrão, mas podemos querer apenas as linhas verticais\n",
    "handles, labels = plt.gca().get_legend_handles_labels()\n",
    "# Filtra para manter apenas as legendas das linhas verticais (axvline)\n",
    "line_labels = {label: handle for handle, label in zip(handles, labels) if 'Média' in label or 'Mediana' in label}\n",
    "plt.legend(line_labels.values(), line_labels.keys(), title=\"Referências\")\n",
    "\n",
    "\n",
    "plt.show()\n",
    "\n",
    "# Opcional: Ver média/mediana de faltas por grupo\n",
    "print(\"\\n--- Média e Mediana de Faltas por Grupo ---\")\n",
    "print(data.groupby('passed')['absences'].agg(['mean', 'median']))\n",
    "conclusao = \"\"\"\n",
    "Conclusão sobre a Relação entre Situação Final e Número de Faltas:\n",
    "\n",
    "    Observa-se uma correlação entre o número de faltas e a situação final do aluno.\n",
    "\n",
    "    1.  **Alunos Aprovados (Verde):** A grande maioria dos alunos que passaram (\"Passou\")\n",
    "        apresenta um número baixo de faltas, concentrando-se principalmente abaixo de 10-15 faltas.\n",
    "        Muitos estão abaixo da mediana geral de faltas (4.00) e da média geral (5.71).\n",
    "        Embora existam alguns casos de aprovação com um número maior de faltas (um perto de 30,\n",
    "        outro perto de 40 e um acima de 50), são exceções.\n",
    "\n",
    "    2.  **Alunos Reprovados (Vermelho):** Os alunos que não passaram (\"Não Passou\") exibem\n",
    "        uma maior dispersão no número de faltas. É importante notar que:\n",
    "        *   Alguns alunos reprovaram mesmo com poucas faltas (inclusive 0 faltas),\n",
    "            sugerindo que outros fatores (como desempenho em avaliações, não mostrados\n",
    "            neste gráfico) foram determinantes para a reprovação.\n",
    "        *   No entanto, há uma clara tendência de que um número elevado de faltas está\n",
    "            fortemente associado à reprovação. No gráfico, todos os alunos com mais de\n",
    "            aproximadamente 25-30 faltas não passaram. À medida que o número de faltas\n",
    "...\n",
    "        e a mediana (4.00) de faltas gerais servem como referências, mas a distinção entre\n",
    "        aprovados e reprovados se torna mais nítida à medida que o número de faltas aumenta\n",
    "        significativamente além desses valores\n",
    "    \n",
    "    \"\"\"\n",
    "print(conclusao)\n",
    "\n"
   ]
  },
  {
   "cell_type": "markdown",
   "id": "e8e3517f",
   "metadata": {},
   "source": [
    "### Segunda tarefa : Data cleaning and Pre-processing\n",
    "# Realizado com base na informação já obtida na primeira tarefa(por vezes podemos ter adicionado uma segunda verificação)"
   ]
  },
  {
   "cell_type": "markdown",
   "id": "0da5c5b3",
   "metadata": {},
   "source": [
    "0.Definição de Constantes"
   ]
  },
  {
   "cell_type": "code",
   "execution_count": null,
   "id": "b67aafa3",
   "metadata": {},
   "outputs": [],
   "source": []
  },
  {
   "cell_type": "code",
   "execution_count": 13,
   "id": "7ea0881d",
   "metadata": {},
   "outputs": [],
   "source": [
    "RAND_STATE = 12\n",
    "TEST_SIZE = 0.1\n",
    "INPUT_FILE = 'student-data.csv' # Assuming this is your concatenated file with 'passed' column\n",
    "TRAIN_PROCESSED_FILE = 'train_processed.csv'\n",
    "TEST_PROCESSED_FILE = 'test_processed.csv'\n",
    "OUTPUT_DIR = 'data/processed/' # Define an output directory"
   ]
  },
  {
   "cell_type": "markdown",
   "id": "4c2d16de",
   "metadata": {},
   "source": [
    "1. Preparação da Variável Alvo"
   ]
  },
  {
   "cell_type": "code",
   "execution_count": 14,
   "id": "603a1521",
   "metadata": {},
   "outputs": [
    {
     "name": "stdout",
     "output_type": "stream",
     "text": [
      "Mapeando a coluna 'passed' para 'passed_mapped' (1 para 'yes', 0 para 'no').\n",
      "Variável alvo 'passed_mapped' pronta. Distribuição:\n",
      "passed_mapped\n",
      "1    0.670886\n",
      "0    0.329114\n",
      "Name: proportion, dtype: float64\n"
     ]
    }
   ],
   "source": [
    "if 'passed' in data.columns:\n",
    "    print(\"Mapeando a coluna 'passed' para 'passed_mapped' (1 para 'yes', 0 para 'no').\")\n",
    "    data['passed_mapped'] = data['passed'].map({'yes': 1, 'no': 0})\n",
    "    target_column_name = 'passed_mapped' # Nome da nossa coluna alvo numérica\n",
    "else:\n",
    "    print(\"Erro: A coluna 'passed' não foi encontrada no DataFrame 'data'. Não é possível definir o alvo.\")\n",
    "    exit() # Ou outra forma de tratamento de erro\n",
    "\n",
    "# Verificar se o mapeamento resultou em NaNs (caso 'passed' tivesse outros valores)\n",
    "if data[target_column_name].isnull().any():\n",
    "    print(f\"Atenção: Existem valores NaN na coluna '{target_column_name}' após o mapeamento.\")\n",
    "    print(f\"Valores únicos em 'passed' original: {data['passed'].unique()}\")\n",
    "    data.dropna(subset=[target_column_name], inplace=True)\n",
    "    print(f\"Linhas com '{target_column_name}' NaN removidas. Novo shape de 'data': {data.shape}\")\n",
    "\n",
    "y = data[target_column_name]\n",
    "print(f\"Variável alvo '{target_column_name}' pronta. Distribuição:\\n{y.value_counts(normalize=True)}\")\n"
   ]
  },
  {
   "cell_type": "markdown",
   "id": "41784e5c",
   "metadata": {},
   "source": [
    "2. Seleção de Features (X)"
   ]
  },
  {
   "cell_type": "code",
   "execution_count": 15,
   "id": "663ee6ad",
   "metadata": {},
   "outputs": [
    {
     "name": "stdout",
     "output_type": "stream",
     "text": [
      "\n",
      "Features (X) criadas. Shape: (395, 30)\n",
      "\n",
      "Primeiras linhas de X:\n",
      "  school sex  age address famsize Pstatus  Medu  Fedu     Mjob      Fjob  ...  \\\n",
      "0     GP   F   18       U     GT3       A     4     4  at_home   teacher  ...   \n",
      "1     GP   F   17       U     GT3       T     1     1  at_home     other  ...   \n",
      "2     GP   F   15       U     LE3       T     1     1  at_home     other  ...   \n",
      "3     GP   F   15       U     GT3       T     4     2   health  services  ...   \n",
      "4     GP   F   16       U     GT3       T     3     3    other     other  ...   \n",
      "\n",
      "  higher internet  romantic  famrel  freetime goout Dalc Walc health absences  \n",
      "0    yes       no        no       4         3     4    1    1      3        6  \n",
      "1    yes      yes        no       5         3     3    1    1      3        4  \n",
      "2    yes      yes        no       4         3     2    2    3      3       10  \n",
      "3    yes      yes       yes       3         2     2    1    1      5        2  \n",
      "4    yes       no        no       4         3     2    1    2      5        4  \n",
      "\n",
      "[5 rows x 30 columns]\n",
      "\n",
      "Informações de X (tipos de dados das features):\n",
      "<class 'pandas.core.frame.DataFrame'>\n",
      "RangeIndex: 395 entries, 0 to 394\n",
      "Data columns (total 30 columns):\n",
      " #   Column      Non-Null Count  Dtype \n",
      "---  ------      --------------  ----- \n",
      " 0   school      395 non-null    object\n",
      " 1   sex         395 non-null    object\n",
      " 2   age         395 non-null    int64 \n",
      " 3   address     395 non-null    object\n",
      " 4   famsize     395 non-null    object\n",
      " 5   Pstatus     395 non-null    object\n",
      " 6   Medu        395 non-null    int64 \n",
      " 7   Fedu        395 non-null    int64 \n",
      " 8   Mjob        395 non-null    object\n",
      " 9   Fjob        395 non-null    object\n",
      " 10  reason      395 non-null    object\n",
      " 11  guardian    395 non-null    object\n",
      " 12  traveltime  395 non-null    int64 \n",
      " 13  studytime   395 non-null    int64 \n",
      " 14  failures    395 non-null    int64 \n",
      " 15  schoolsup   395 non-null    object\n",
      " 16  famsup      395 non-null    object\n",
      " 17  paid        395 non-null    object\n",
      " 18  activities  395 non-null    object\n",
      " 19  nursery     395 non-null    object\n",
      " 20  higher      395 non-null    object\n",
      " 21  internet    395 non-null    object\n",
      " 22  romantic    395 non-null    object\n",
      " 23  famrel      395 non-null    int64 \n",
      " 24  freetime    395 non-null    int64 \n",
      " 25  goout       395 non-null    int64 \n",
      " 26  Dalc        395 non-null    int64 \n",
      " 27  Walc        395 non-null    int64 \n",
      " 28  health      395 non-null    int64 \n",
      " 29  absences    395 non-null    int64 \n",
      "dtypes: int64(13), object(17)\n",
      "memory usage: 92.7+ KB\n"
     ]
    }
   ],
   "source": [
    "cols_to_drop_for_X = ['passed', target_column_name]\n",
    "\n",
    "# Garantir que estamos a tentar remover apenas colunas que de facto existem\n",
    "# (embora 'passed' e target_column_name devam existir neste ponto)\n",
    "actual_cols_to_drop_for_X = [col for col in cols_to_drop_for_X if col in data.columns]\n",
    "X = data.drop(columns=actual_cols_to_drop_for_X)\n",
    "\n",
    "print(f\"\\nFeatures (X) criadas. Shape: {X.shape}\")\n",
    "print(\"\\nPrimeiras linhas de X:\")\n",
    "print(X.head())\n",
    "print(\"\\nInformações de X (tipos de dados das features):\")\n",
    "X.info() # Descomentar para verificar os tipos de dados em X"
   ]
  },
  {
   "cell_type": "markdown",
   "id": "9d7dcbd6",
   "metadata": {},
   "source": [
    "3. Identificação Automática de Tipos de Colunas para Processamento em X"
   ]
  },
  {
   "cell_type": "code",
   "execution_count": 16,
   "id": "8e564466",
   "metadata": {},
   "outputs": [
    {
     "name": "stdout",
     "output_type": "stream",
     "text": [
      "\n",
      "Colunas numéricas identificadas em X para processamento: ['age', 'Medu', 'Fedu', 'traveltime', 'studytime', 'failures', 'famrel', 'freetime', 'goout', 'Dalc', 'Walc', 'health', 'absences']\n",
      "Colunas nominais identificadas em X para processamento: ['school', 'sex', 'address', 'famsize', 'Pstatus', 'Mjob', 'Fjob', 'reason', 'guardian', 'schoolsup', 'famsup', 'paid', 'activities', 'nursery', 'higher', 'internet', 'romantic']\n"
     ]
    }
   ],
   "source": [
    "numeric_cols_to_process = X.select_dtypes(include=np.number).columns.tolist()\n",
    "nominal_cols_to_process = X.select_dtypes(include='object').columns.tolist()\n",
    "print(f\"\\nColunas numéricas identificadas em X para processamento: {numeric_cols_to_process}\")\n",
    "print(f\"Colunas nominais identificadas em X para processamento: {nominal_cols_to_process}\")\n",
    "\n",
    "# Verificar se alguma coluna ficou de fora (não é numérica nem 'object')\n",
    "all_X_cols = X.columns.tolist()\n",
    "identified_cols = numeric_cols_to_process + nominal_cols_to_process\n",
    "unidentified_cols = [col for col in all_X_cols if col not in identified_cols]\n",
    "if unidentified_cols:\n",
    "    print(f\"ATENÇÃO: As seguintes colunas em X não foram classificadas como numéricas nem 'object': {unidentified_cols}\")\n",
    "    print(\"Estas colunas serão descartadas pelo ColumnTransformer se 'remainder' for 'drop'.\")"
   ]
  },
  {
   "cell_type": "markdown",
   "id": "119c0b9d",
   "metadata": {},
   "source": [
    "4. Divisão dos Dados em Conjuntos de Treino e Teste"
   ]
  },
  {
   "cell_type": "code",
   "execution_count": 17,
   "id": "ab1fe315",
   "metadata": {},
   "outputs": [
    {
     "name": "stdout",
     "output_type": "stream",
     "text": [
      "\n",
      "Dados divididos em treino e teste.\n",
      "X_train shape: (355, 30), y_train shape: (355,)\n",
      "X_test shape: (40, 30), y_test shape: (40,)\n"
     ]
    }
   ],
   "source": [
    "X_train, X_test, y_train, y_test = train_test_split(X, y, test_size=TEST_SIZE, random_state=RAND_STATE, shuffle=True, stratify=y)\n",
    "print(f\"\\nDados divididos em treino e teste.\")\n",
    "print(f\"X_train shape: {X_train.shape}, y_train shape: {y_train.shape}\")\n",
    "print(f\"X_test shape: {X_test.shape}, y_test shape: {y_test.shape}\")"
   ]
  },
  {
   "cell_type": "markdown",
   "id": "8dbf1c36",
   "metadata": {},
   "source": [
    "5. Configuração do `ColumnTransformer`"
   ]
  },
  {
   "cell_type": "code",
   "execution_count": 18,
   "id": "2280660a",
   "metadata": {},
   "outputs": [],
   "source": [
    "preprocessor = ColumnTransformer(\n",
    "    transformers=[\n",
    "        ('num', MinMaxScaler(), numeric_cols_to_process),\n",
    "        ('cat', OneHotEncoder(drop='if_binary', handle_unknown='ignore', sparse_output=False), nominal_cols_to_process)\n",
    "    ],\n",
    "    remainder='drop', # Descarta quaisquer colunas em X que não sejam numéricas ou 'object' (se houver)\n",
    "    n_jobs=-1\n",
    ")"
   ]
  },
  {
   "cell_type": "markdown",
   "id": "c6638832",
   "metadata": {},
   "source": [
    "6. Aplicação das Transformações"
   ]
  },
  {
   "cell_type": "code",
   "execution_count": 19,
   "id": "0cc83acf",
   "metadata": {},
   "outputs": [
    {
     "name": "stdout",
     "output_type": "stream",
     "text": [
      "\n",
      "Aplicando transformações de pré-processamento...\n"
     ]
    },
    {
     "name": "stdout",
     "output_type": "stream",
     "text": [
      "Transformações aplicadas.\n"
     ]
    }
   ],
   "source": [
    "print(\"\\nAplicando transformações de pré-processamento...\")\n",
    "X_train_processed = preprocessor.fit_transform(X_train)\n",
    "X_test_processed = preprocessor.transform(X_test)\n",
    "print(\"Transformações aplicadas.\")"
   ]
  },
  {
   "cell_type": "markdown",
   "id": "90e30359",
   "metadata": {},
   "source": [
    "7. Reconstrução dos DataFrames Processados"
   ]
  },
  {
   "cell_type": "code",
   "execution_count": 20,
   "id": "af72bfde",
   "metadata": {},
   "outputs": [
    {
     "name": "stdout",
     "output_type": "stream",
     "text": [
      "\n",
      "DataFrames processados reconstruídos.\n",
      "Shape do treino processado: (355, 44)\n",
      "Shape do teste processado: (40, 44)\n"
     ]
    }
   ],
   "source": [
    "try:\n",
    "    nominal_col_names_processed = preprocessor.named_transformers_['cat'].get_feature_names_out(nominal_cols_to_process)\n",
    "except AttributeError:\n",
    "    nominal_col_names_processed = preprocessor.named_transformers_['cat'].get_feature_names(nominal_cols_to_process)\n",
    "\n",
    "# Nomes finais das colunas na ordem correta\n",
    "final_feature_names = numeric_cols_to_process + list(nominal_col_names_processed)\n",
    "\n",
    "# Criar DataFrames processados\n",
    "train_df_processed = pd.DataFrame(X_train_processed, columns=final_feature_names, index=X_train.index)\n",
    "train_df_processed[target_column_name] = y_train\n",
    "\n",
    "test_df_processed = pd.DataFrame(X_test_processed, columns=final_feature_names, index=X_test.index)\n",
    "test_df_processed[target_column_name] = y_test\n",
    "\n",
    "print(f\"\\nDataFrames processados reconstruídos.\")\n",
    "print(f\"Shape do treino processado: {train_df_processed.shape}\")\n",
    "print(f\"Shape do teste processado: {test_df_processed.shape}\")\n",
    "# print(\"\\nPrimeiras 5 linhas dos dados de treino processados:\")\n",
    "# print(train_df_processed.head())\n"
   ]
  },
  {
   "cell_type": "markdown",
   "id": "b194d7e4",
   "metadata": {},
   "source": [
    "8. Armazenamento dos Dados Processados"
   ]
  },
  {
   "cell_type": "code",
   "execution_count": 21,
   "id": "50889469",
   "metadata": {},
   "outputs": [
    {
     "name": "stdout",
     "output_type": "stream",
     "text": [
      "\n",
      "Dados processados guardados em:\n",
      "Treino: data/processed/train_processed.csv\n",
      "Teste: data/processed/test_processed.csv\n"
     ]
    }
   ],
   "source": [
    "os.makedirs(OUTPUT_DIR, exist_ok=True)\n",
    "\n",
    "train_path = os.path.join(OUTPUT_DIR, TRAIN_PROCESSED_FILE)\n",
    "test_path = os.path.join(OUTPUT_DIR, TEST_PROCESSED_FILE)\n",
    "\n",
    "train_df_processed.to_csv(train_path, index=False)\n",
    "test_df_processed.to_csv(test_path, index=False)\n",
    "\n",
    "print(f\"\\nDados processados guardados em:\")\n",
    "print(f\"Treino: {train_path}\")\n",
    "print(f\"Teste: {test_path}\")\n"
   ]
  },
  {
   "cell_type": "markdown",
   "id": "6e80b6db",
   "metadata": {},
   "source": [
    "### Terceira Tarefa: Data Modeling (Supervised Learning)"
   ]
  },
  {
   "cell_type": "markdown",
   "id": "4b048eda",
   "metadata": {},
   "source": [
    "0. Definição de Constantes e Carregamento dos Dados Processados\n"
   ]
  },
  {
   "cell_type": "code",
   "execution_count": null,
   "id": "2b4082e4",
   "metadata": {},
   "outputs": [
    {
     "name": "stdout",
     "output_type": "stream",
     "text": [
      "Erro: Ficheiros processados não encontrados. Executa o notebook de pré-processamento primeiro.\n"
     ]
    },
    {
     "ename": "NameError",
     "evalue": "name 'train_df' is not defined",
     "output_type": "error",
     "traceback": [
      "\u001b[31m---------------------------------------------------------------------------\u001b[39m",
      "\u001b[31mNameError\u001b[39m                                 Traceback (most recent call last)",
      "\u001b[36mCell\u001b[39m\u001b[36m \u001b[39m\u001b[32mIn[22]\u001b[39m\u001b[32m, line 16\u001b[39m\n\u001b[32m     13\u001b[39m     \u001b[38;5;66;03m# Para demonstração, vamos criar dataframes vazios ou sair\u001b[39;00m\n\u001b[32m     14\u001b[39m     exit()\n\u001b[32m---> \u001b[39m\u001b[32m16\u001b[39m \u001b[38;5;28mprint\u001b[39m(\u001b[33mf\u001b[39m\u001b[33m\"\u001b[39m\u001b[33mShape do treino carregado: \u001b[39m\u001b[38;5;132;01m{\u001b[39;00m\u001b[43mtrain_df\u001b[49m.shape\u001b[38;5;132;01m}\u001b[39;00m\u001b[33m\"\u001b[39m)\n\u001b[32m     17\u001b[39m \u001b[38;5;28mprint\u001b[39m(\u001b[33mf\u001b[39m\u001b[33m\"\u001b[39m\u001b[33mShape do teste carregado: \u001b[39m\u001b[38;5;132;01m{\u001b[39;00mtest_df.shape\u001b[38;5;132;01m}\u001b[39;00m\u001b[33m\"\u001b[39m)\n\u001b[32m     18\u001b[39m \u001b[38;5;28mprint\u001b[39m(\u001b[33m\"\u001b[39m\u001b[38;5;130;01m\\n\u001b[39;00m\u001b[33mPrimeiras linhas do treino:\u001b[39m\u001b[33m\"\u001b[39m)\n",
      "\u001b[31mNameError\u001b[39m: name 'train_df' is not defined"
     ]
    },
    {
     "ename": "",
     "evalue": "",
     "output_type": "error",
     "traceback": [
      "\u001b[1;31mThe Kernel crashed while executing code in the current cell or a previous cell. \n",
      "\u001b[1;31mPlease review the code in the cell(s) to identify a possible cause of the failure. \n",
      "\u001b[1;31mClick <a href='https://aka.ms/vscodeJupyterKernelCrash'>here</a> for more info. \n",
      "\u001b[1;31mView Jupyter <a href='command:jupyter.viewOutput'>log</a> for further details."
     ]
    }
   ],
   "source": [
    "RAND_STATE = 12\n",
    "TRAIN_PROCESSED_FILE = 'data/processed/train_student_data_processed_final_v2.csv' # Ajusta o nome se necessário\n",
    "TEST_PROCESSED_FILE = 'data/processed/test_student_data_processed_final_v2.csv'  # Ajusta o nome se necessário\n",
    "TARGET_COLUMN = 'passed_mapped' # O nome da tua coluna alvo\n",
    "\n",
    "# %%\n",
    "# Carregar os dados processados\n",
    "try:\n",
    "    train_df = pd.read_csv(TRAIN_PROCESSED_FILE)\n",
    "    test_df = pd.read_csv(TEST_PROCESSED_FILE)\n",
    "except FileNotFoundError:\n",
    "    print(f\"Erro: Ficheiros processados não encontrados. Executa o notebook de pré-processamento primeiro.\")\n",
    "    # Para demonstração, vamos criar dataframes vazios ou sair\n",
    "    exit()\n",
    "\n",
    "print(f\"Shape do treino carregado: {train_df.shape}\")\n",
    "print(f\"Shape do teste carregado: {test_df.shape}\")\n",
    "print(\"\\nPrimeiras linhas do treino:\")\n",
    "print(train_df.head())"
   ]
  },
  {
   "cell_type": "markdown",
   "id": "c909785c",
   "metadata": {},
   "source": [
    "1. Preparação dos Conjuntos de Treino e Teste (X, y)"
   ]
  },
  {
   "cell_type": "code",
   "execution_count": null,
   "id": "693f9375",
   "metadata": {},
   "outputs": [],
   "source": [
    "if TARGET_COLUMN not in train_df.columns or TARGET_COLUMN not in test_df.columns:\n",
    "    print(f\"Erro: A coluna alvo '{TARGET_COLUMN}' não foi encontrada nos DataFrames carregados.\")\n",
    "    exit()\n",
    "\n",
    "X_train = train_df.drop(columns=[TARGET_COLUMN])\n",
    "y_train = train_df[TARGET_COLUMN]\n",
    "\n",
    "X_test = test_df.drop(columns=[TARGET_COLUMN])\n",
    "y_test = test_df[TARGET_COLUMN]\n",
    "\n",
    "print(f\"\\nShapes após separação X, y:\")\n",
    "print(f\"X_train: {X_train.shape}, y_train: {y_train.shape}\")\n",
    "print(f\"X_test: {X_test.shape}, y_test: {y_test.shape}\")\n",
    "print(f\"\\nDistribuição da variável alvo no treino:\\n{y_train.value_counts(normalize=True)}\")\n",
    "print(f\"Distribuição da variável alvo no teste:\\n{y_test.value_counts(normalize=True)}\")"
   ]
  },
  {
   "cell_type": "markdown",
   "id": "fc65d9b3",
   "metadata": {},
   "source": [
    "2. Definição da Função de Avaliação e Baseline"
   ]
  },
  {
   "cell_type": "code",
   "execution_count": null,
   "id": "b06a7c5e",
   "metadata": {},
   "outputs": [],
   "source": [
    "def evaluate_classification_model(model_name, y_true, y_pred, y_proba=None):\n",
    "    accuracy = accuracy_score(y_true, y_pred)\n",
    "    precision = precision_score(y_true, y_pred, zero_division=0)\n",
    "    recall = recall_score(y_true, y_pred, zero_division=0)\n",
    "    f1 = f1_score(y_true, y_pred, zero_division=0)\n",
    "    roc_auc = roc_auc_score(y_true, y_proba[:, 1]) if y_proba is not None else None\n",
    "\n",
    "    print(f\"\\n--- Avaliação do Modelo: {model_name} ---\")\n",
    "    print(f\"  Acurácia:  {accuracy:.4f}\")\n",
    "    print(f\"  Precisão:  {precision:.4f}\")\n",
    "    print(f\"  Recall:    {recall:.4f}\")\n",
    "    print(f\"  F1-Score:  {f1:.4f}\")\n",
    "    if roc_auc is not None:\n",
    "        print(f\"  AUC ROC:   {roc_auc:.4f}\")\n",
    "\n",
    "    print(\"\\n  Matriz de Confusão:\")\n",
    "    cm = confusion_matrix(y_true, y_pred)\n",
    "    disp = ConfusionMatrixDisplay(confusion_matrix=cm)\n",
    "    disp.plot(cmap=plt.cm.Blues)\n",
    "    plt.title(f'Matriz de Confusão - {model_name}')\n",
    "    plt.show()\n",
    "\n",
    "    print(\"\\n  Relatório de Classificação:\")\n",
    "    print(classification_report(y_true, y_pred, zero_division=0))\n",
    "    \n",
    "    metrics = {\n",
    "        'accuracy': accuracy, 'precision': precision, 'recall': recall, 'f1': f1, 'roc_auc': roc_auc\n",
    "    }\n",
    "    return metrics, cm\n",
    "Baseline: Prever sempre a classe maioritária (assumindo que '1' - passou - é a maioritária)\n",
    "majority_class = y_train.mode()[0]\n",
    "baseline_predictions = np.full_like(y_test, fill_value=majority_class)\n",
    "baseline_proba = np.zeros((len(y_test), 2)) # Para AUC ROC (probabilidades \"falsas\")\n",
    "if majority_class == 1:\n",
    "    baseline_proba[:,1] = 1.0\n",
    "else:\n",
    "    baseline_proba[:,0] = 1.0\n",
    "\n",
    "print(f\"Classe maioritária no treino: {majority_class}\")\n",
    "baseline_metrics, _ = evaluate_classification_model(\"Baseline (Classe Maioritária)\", y_test, baseline_predictions, baseline_proba)\n"
   ]
  },
  {
   "cell_type": "markdown",
   "id": "604b0e21",
   "metadata": {},
   "source": [
    "3. Experimentação Inicial com Diferentes Algoritmos (Validação Cruzada no Treino)\n",
    "    Nesta fase, vamos usar `cross_val_score` no conjunto de treino (`X_train`, `y_train`) para obter uma estimativa mais robusta da performance de cada algoritmo com os seus parâmetros padrão. Usaremos `StratifiedKFold` devido ao ligeiro desequilíbrio de classes.\n"
   ]
  },
  {
   "cell_type": "code",
   "execution_count": null,
   "id": "e359d49b",
   "metadata": {},
   "outputs": [],
   "source": [
    "models = {\n",
    "    \"Regressão Logística\": LogisticRegression(random_state=RAND_STATE, max_iter=1000),\n",
    "    \"KNN\": KNeighborsClassifier(),\n",
    "    \"Árvore de Decisão\": DecisionTreeClassifier(random_state=RAND_STATE),\n",
    "    \"Random Forest\": RandomForestClassifier(random_state=RAND_STATE),\n",
    "    \"SVM\": SVC(probability=True, random_state=RAND_STATE), # probability=True para AUC ROC\n",
    "    \"Gradient Boosting\": GradientBoostingClassifier(random_state=RAND_STATE),\n",
    "    \"AdaBoost\": AdaBoostClassifier(random_state=RAND_STATE)\n",
    "    # \"XGBoost\": xgb.XGBClassifier(random_state=RAND_STATE, use_label_encoder=False, eval_metric='logloss') # Descomentar se instalado\n",
    "}\n",
    "\n",
    "cv_strategy = StratifiedKFold(n_splits=5, shuffle=True, random_state=RAND_STATE)\n",
    "scoring_metric = 'f1' # Podemos focar no F1-score devido ao desequilíbrio\n",
    "\n",
    "results_cv = {}\n",
    "\n",
    "for name, model in models.items():\n",
    "    # Nota: Se o pré-processamento já incluiu escalonamento e one-hot encoding,\n",
    "    # e X_train é o resultado disso, não precisamos de ColumnTransformer aqui.\n",
    "    # Se X_train fossem os dados ANTES dessas etapas, usaríamos um Pipeline:\n",
    "    # pipeline = Pipeline(steps=[('preprocessor', preprocessor_do_teu_notebook_anterior), ('classifier', model)])\n",
    "    # Mas como X_train já está processado, podemos usar o modelo diretamente.\n",
    "    # No entanto, para modelos como KNN e SVM que são sensíveis à escala, se X_train não foi escalado\n",
    "    # (o que parece ter sido, dado o ColumnTransformer no pré-processamento), precisaríamos de um StandardScaler aqui.\n",
    "    # Assumindo que X_train JÁ ESTÁ escalado:\n",
    "    \n",
    "    cv_scores = cross_val_score(model, X_train, y_train, cv=cv_strategy, scoring=scoring_metric)\n",
    "    results_cv[name] = cv_scores\n",
    "    print(f\"{name}: Média {scoring_metric.upper()} (CV) = {cv_scores.mean():.4f} (+/- {cv_scores.std():.4f})\")\n"
   ]
  },
  {
   "cell_type": "markdown",
   "id": "2489930b",
   "metadata": {},
   "source": [
    "4. Seleção dos Modelos Mais Promissores e Treino/Avaliação no Conjunto de Teste\n",
    " Com base nos resultados da validação cruzada, vamos selecionar os, por exemplo, 3 melhores modelos para treinar no `X_train` completo e avaliar no `X_test`."
   ]
  },
  {
   "cell_type": "code",
   "execution_count": null,
   "id": "85d84926",
   "metadata": {},
   "outputs": [],
   "source": [
    "sorted_models_cv = sorted(results_cv.items(), key=lambda item: item[1].mean(), reverse=True)\n",
    "print(\"\\nModelos ordenados por performance na Validação Cruzada (F1-score):\")\n",
    "for name, scores in sorted_models_cv:\n",
    "    print(f\"{name}: Média F1 (CV) = {scores.mean():.4f}\")\n",
    "\n",
    "# Selecionar os N melhores (e.g., N=3)\n",
    "top_n = 3\n",
    "best_model_names = [name for name, _ in sorted_models_cv[:top_n]]\n",
    "print(f\"\\nSelecionando os {top_n} melhores modelos para avaliação no teste: {best_model_names}\")\n",
    "\n",
    "test_set_metrics = {}\n",
    "trained_models = {}\n",
    "\n",
    "for name in best_model_names:\n",
    "    model = models[name] # Pega o modelo com parâmetros padrão\n",
    "    model.fit(X_train, y_train)\n",
    "    \n",
    "    y_pred_test = model.predict(X_test)\n",
    "    y_proba_test = None\n",
    "    if hasattr(model, \"predict_proba\"):\n",
    "        y_proba_test = model.predict_proba(X_test)\n",
    "        \n",
    "    metrics, _ = evaluate_classification_model(name, y_test, y_pred_test, y_proba_test)\n",
    "    test_set_metrics[name] = metrics\n",
    "    trained_models[name] = model # Guardar o modelo treinado\n"
   ]
  },
  {
   "cell_type": "markdown",
   "id": "a1774209",
   "metadata": {},
   "source": [
    "5. Otimização de Hiperparâmetros (GridSearchCV) para os Melhores Modelos\n",
    "    Com os modelos que se destacaram e tentar otimizar os seus hiperparâmetros usando GridSearchCV."
   ]
  },
  {
   "cell_type": "code",
   "execution_count": null,
   "id": "77ce8f69",
   "metadata": {},
   "outputs": [],
   "source": [
    "if \"Random Forest\" in best_model_names:\n",
    "    print(\"\\n--- Otimização de Hiperparâmetros para Random Forest ---\")\n",
    "    rf_params = {\n",
    "        'n_estimators': [100, 200],\n",
    "        'max_depth': [None, 10, 20],\n",
    "        'min_samples_split': [2, 5],\n",
    "        'min_samples_leaf': [1, 2],\n",
    "        'class_weight': [None, 'balanced'] # Bom para desequilíbrio\n",
    "    }\n",
    "    rf_model = RandomForestClassifier(random_state=RAND_STATE)\n",
    "    \n",
    "    # Se X_train já está totalmente pré-processado, podemos passar diretamente\n",
    "    # Se precisássemos aplicar o pré-processamento dentro do GridSearch (melhor prática se houver fit no preprocessor)\n",
    "    # rf_pipeline = Pipeline(steps=[('preprocessor', teu_preprocessor_configurado),\n",
    "    #                               ('classifier', rf_model)])\n",
    "    # Mas vamos assumir que X_train e X_test já são os DataFrames processados.\n",
    "    \n",
    "    grid_search_rf = GridSearchCV(estimator=rf_model, param_grid=rf_params, \n",
    "                                  cv=cv_strategy, scoring=scoring_metric, n_jobs=-1, verbose=1)\n",
    "    grid_search_rf.fit(X_train, y_train)\n",
    "    \n",
    "    print(f\"Melhores Parâmetros para Random Forest: {grid_search_rf.best_params_}\")\n",
    "    print(f\"Melhor {scoring_metric.upper()} (CV) com GridSearchCV: {grid_search_rf.best_score_:.4f}\")\n",
    "    \n",
    "    # Avaliar o melhor modelo do GridSearchCV no conjunto de teste\n",
    "    best_rf_model = grid_search_rf.best_estimator_\n",
    "    y_pred_test_rf_tuned = best_rf_model.predict(X_test)\n",
    "    y_proba_test_rf_tuned = best_rf_model.predict_proba(X_test)\n",
    "    \n",
    "    rf_tuned_metrics, _ = evaluate_classification_model(\"Random Forest (Otimizado)\", \n",
    "                                                        y_test, y_pred_test_rf_tuned, \n",
    "                                                        y_proba_test_rf_tuned)\n",
    "    test_set_metrics[\"Random Forest (Otimizado)\"] = rf_tuned_metrics\n",
    "    trained_models[\"Random Forest (Otimizado)\"] = best_rf_model\n",
    "\n",
    "# (Adicionar GridSearchCV para outros modelos promissores como SVM, Gradient Boosting, XGBoost)\n",
    "# Exemplo para SVM\n",
    "if \"SVM\" in best_model_names:\n",
    "    print(\"\\n--- Otimização de Hiperparâmetros para SVM ---\")\n",
    "    svm_params = {\n",
    "        'C': [0.1, 1, 10],\n",
    "        'gamma': ['scale', 'auto', 0.1, 1],\n",
    "        'kernel': ['rbf', 'linear'],\n",
    "        'class_weight': [None, 'balanced']\n",
    "    }\n",
    "    svm_model = SVC(probability=True, random_state=RAND_STATE)\n",
    "    grid_search_svm = GridSearchCV(estimator=svm_model, param_grid=svm_params,\n",
    "                                   cv=cv_strategy, scoring=scoring_metric, n_jobs=-1, verbose=1)\n",
    "    grid_search_svm.fit(X_train, y_train)\n",
    "\n",
    "    print(f\"Melhores Parâmetros para SVM: {grid_search_svm.best_params_}\")\n",
    "    print(f\"Melhor {scoring_metric.upper()} (CV) com GridSearchCV: {grid_search_svm.best_score_:.4f}\")\n",
    "\n",
    "    best_svm_model = grid_search_svm.best_estimator_\n",
    "    y_pred_test_svm_tuned = best_svm_model.predict(X_test)\n",
    "    y_proba_test_svm_tuned = best_svm_model.predict_proba(X_test)\n",
    "\n",
    "    svm_tuned_metrics, _ = evaluate_classification_model(\"SVM (Otimizado)\",\n",
    "                                                         y_test, y_pred_test_svm_tuned,\n",
    "                                                         y_proba_test_svm_tuned)\n",
    "    test_set_metrics[\"SVM (Otimizado)\"] = svm_tuned_metrics\n",
    "    trained_models[\"SVM (Otimizado)\"] = best_svm_model\n"
   ]
  },
  {
   "cell_type": "markdown",
   "id": "6df63866",
   "metadata": {},
   "source": [
    "6. Comparação Final dos Modelos e Interpretação"
   ]
  },
  {
   "cell_type": "code",
   "execution_count": null,
   "id": "d799fa45",
   "metadata": {},
   "outputs": [],
   "source": [
    "print(\"\\n--- Comparação Final das Métricas no Conjunto de Teste ---\")\n",
    "metrics_df = pd.DataFrame(test_set_metrics).T.sort_values(by=scoring_metric.upper(), ascending=False)\n",
    "print(metrics_df)\n",
    "\n",
    "# Plotar curvas ROC para os melhores modelos\n",
    "plt.figure(figsize=(10, 8))\n",
    "for name, model in trained_models.items():\n",
    "    if hasattr(model, \"predict_proba\"):\n",
    "        y_proba_test = model.predict_proba(X_test)[:, 1]\n",
    "        fpr, tpr, _ = roc_curve(y_test, y_proba_test)\n",
    "        roc_auc = auc(fpr, tpr)\n",
    "        plt.plot(fpr, tpr, label=f'{name} (AUC = {roc_auc:.2f})')\n",
    "\n",
    "plt.plot([0, 1], [0, 1], 'k--', label='Aleatório (AUC = 0.50)')\n",
    "plt.xlabel('Taxa de Falsos Positivos (FPR)')\n",
    "plt.ylabel('Taxa de Verdadeiros Positivos (TPR)')\n",
    "plt.title('Curvas ROC dos Modelos no Conjunto de Teste')\n",
    "plt.legend(loc='lower right')\n",
    "plt.grid(True)\n",
    "plt.show()\n"
   ]
  },
  {
   "cell_type": "markdown",
   "id": "860cd985",
   "metadata": {},
   "source": [
    "### Interpretação dos Resultados:\n",
    " \n",
    " *   **Melhor Modelo:** Com base na métrica de F1-score (ou AUC ROC), qual foi o melhor modelo final?\n",
    "*   **Performance Geral:** O modelo atinge um nível de performance aceitável para um \"Student Intervention System\"?\n",
    "*   **Análise da Matriz de Confusão do Melhor Modelo:**\n",
    "  *   Quantos alunos que iriam reprovar (`passed_mapped=0`) foram corretamente identificados (Verdadeiros Negativos)?\n",
    "    * Quantos alunos que iriam reprovar foram incorretamente classificados como aprovados (Falsos Positivos - Tipo I ou II dependendo da definição da classe positiva)? Este é um erro crítico, pois significa não intervir quando necessário.\n",
    "    *   Quantos alunos que iriam passar (`passed_mapped=1`) foram incorretamente classificados como reprovados (Falsos Negativos)? Este erro leva a uma intervenção desnecessária.\n",
    "   *   Qual tipo de erro é mais problemático neste contexto? Ajustar o threshold de decisão do modelo (se aplicável, e.g., para Regressão Logística) poderia otimizar para reduzir o erro mais crítico, mesmo que afete outras métricas.\n",
    " *   **Importância das Features (para modelos baseados em árvore ou com coeficientes):**\n",
    "    *   Se usaste RandomForestClassifier ou DecisionTreeClassifier, podes aceder a `model.feature_importances_`.\n",
    "     *   Se usaste LogisticRegression, podes aceder a `model.coef_`.\n",
    "     *   Quais features foram mais importantes para a decisão do modelo? Isto alinha-se com as tuas descobertas na EDA e com a intuição sobre o problema?\n",
    " *   **Limitações e Próximos Passos:**\n",
    "     *   O desequilíbrio de classes foi um problema? Se sim, técnicas de reamostragem (SMOTE, etc.) poderiam ser exploradas (Extra Element).\n",
    "     *   Será que features adicionais ou uma melhor engenharia de features poderiam melhorar o modelo?\n",
    "    *   Explorar \"Responsible AI practices\" (Extra Element) como fairness e explicabilidade (e.g., com SHAP ou LIME).\n"
   ]
  },
  {
   "cell_type": "markdown",
   "id": "6a51413f",
   "metadata": {},
   "source": [
    " ### Guardar o Melhor Modelo (Opcional)"
   ]
  },
  {
   "cell_type": "code",
   "execution_count": null,
   "id": "1158cd5d",
   "metadata": {},
   "outputs": [],
   "source": [
    "best_final_model_name = metrics_df.index[0] # Assume que a primeira linha é o melhor\n",
    "best_final_model = trained_models[best_final_model_name]\n",
    "\n",
    "output_model_path = \"best_student_intervention_model.joblib\"\n",
    "joblib.dump(best_final_model, output_model_path)\n",
    "print(f\"\\nMelhor modelo ({best_final_model_name}) guardado em: {output_model_path}\")\n",
    "\n"
   ]
  }
 ],
 "metadata": {
  "kernelspec": {
   "display_name": "DS_PROJECT",
   "language": "python",
   "name": "python3"
  },
  "language_info": {
   "codemirror_mode": {
    "name": "ipython",
    "version": 3
   },
   "file_extension": ".py",
   "mimetype": "text/x-python",
   "name": "python",
   "nbconvert_exporter": "python",
   "pygments_lexer": "ipython3",
   "version": "3.12.3"
  }
 },
 "nbformat": 4,
 "nbformat_minor": 5
}
